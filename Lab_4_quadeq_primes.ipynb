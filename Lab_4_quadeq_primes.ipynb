{
 "cells": [
  {
   "cell_type": "markdown",
   "id": "f7cc1ad5",
   "metadata": {},
   "source": [
    "# Lab 4 - The Quadratic Equation and Prime Numbers\n",
    "##### Daisy L Whitfield (Working Alone...FOREVER ALONE)\n",
    "---"
   ]
  },
  {
   "cell_type": "markdown",
   "id": "1f5ddc60",
   "metadata": {},
   "source": [
    "### 4.2 - Preparation\n",
    "\n",
    "#### a%b == 0 means that b is a factor of a because the modulo operator returns the remainder of a divided by b.  If there is no remainder (aka the modulus is zero) then b must be a factor of a.\n",
    "---"
   ]
  },
  {
   "cell_type": "markdown",
   "id": "de5e706f",
   "metadata": {},
   "source": [
    "### Exercise 4.1 - Verbose Code Snippet"
   ]
  },
  {
   "cell_type": "code",
   "execution_count": 9,
   "id": "9e1c4abc",
   "metadata": {},
   "outputs": [
    {
     "name": "stdout",
     "output_type": "stream",
     "text": [
      "on index  0\n",
      "on index  10\n",
      "on index  20\n",
      "on index  30\n",
      "on index  40\n",
      "on index  50\n",
      "on index  60\n",
      "on index  70\n",
      "on index  80\n",
      "on index  90\n"
     ]
    }
   ],
   "source": [
    "for i in range(100):\n",
    "    if i%10 == 0:\n",
    "        print(\"on index \", i) "
   ]
  },
  {
   "cell_type": "markdown",
   "id": "5ddba14b",
   "metadata": {},
   "source": [
    "---"
   ]
  },
  {
   "cell_type": "markdown",
   "id": "5a5e01db",
   "metadata": {},
   "source": [
    "### Excercise 4.2 - Quadratic Equation Function"
   ]
  },
  {
   "cell_type": "code",
   "execution_count": 29,
   "id": "edbead88",
   "metadata": {},
   "outputs": [],
   "source": [
    "def quad(a,b,c):\n",
    "    d = (b ** 2) - 4 * a * c\n",
    "    if d < 0:\n",
    "        print(\"No solutions!\") \n",
    "    elif d == 0:\n",
    "        print(\"One solution: \" + str(((-b)/ (2 * a)))) \n",
    "    else:\n",
    "        x = (-b + d ** (1 / 2)) / (2 * a)\n",
    "        print(\"Two solutions: \" + str(x) + \" and \" + str(-x))"
   ]
  },
  {
   "cell_type": "code",
   "execution_count": 30,
   "id": "827a1631",
   "metadata": {},
   "outputs": [
    {
     "name": "stdout",
     "output_type": "stream",
     "text": [
      "One solution: 1.0\n",
      "Two solutions: 1.0 and -1.0\n",
      "No solutions!\n"
     ]
    }
   ],
   "source": [
    "quad(1,-2,1)\n",
    "quad(1,0,-1)\n",
    "quad(1,0,1)"
   ]
  },
  {
   "cell_type": "markdown",
   "id": "c51890d1",
   "metadata": {},
   "source": [
    "---"
   ]
  },
  {
   "cell_type": "markdown",
   "id": "f2651a86",
   "metadata": {},
   "source": [
    "### Exercise 4.3 - Quadratic Equation Function 2.0 (Bigger!  Better! Less Errors!)"
   ]
  },
  {
   "cell_type": "code",
   "execution_count": 32,
   "id": "a8f291d5",
   "metadata": {},
   "outputs": [
    {
     "ename": "ZeroDivisionError",
     "evalue": "division by zero",
     "output_type": "error",
     "traceback": [
      "\u001b[0;31m---------------------------------------------------------------------------\u001b[0m",
      "\u001b[0;31mZeroDivisionError\u001b[0m                         Traceback (most recent call last)",
      "Input \u001b[0;32mIn [32]\u001b[0m, in \u001b[0;36m<cell line: 1>\u001b[0;34m()\u001b[0m\n\u001b[0;32m----> 1\u001b[0m \u001b[43mquad\u001b[49m\u001b[43m(\u001b[49m\u001b[38;5;241;43m0\u001b[39;49m\u001b[43m,\u001b[49m\u001b[38;5;241;43m0\u001b[39;49m\u001b[43m,\u001b[49m\u001b[38;5;241;43m0\u001b[39;49m\u001b[43m)\u001b[49m\n",
      "Input \u001b[0;32mIn [29]\u001b[0m, in \u001b[0;36mquad\u001b[0;34m(a, b, c)\u001b[0m\n\u001b[1;32m      4\u001b[0m     \u001b[38;5;28mprint\u001b[39m(\u001b[38;5;124m\"\u001b[39m\u001b[38;5;124mNo solutions!\u001b[39m\u001b[38;5;124m\"\u001b[39m) \n\u001b[1;32m      5\u001b[0m \u001b[38;5;28;01melif\u001b[39;00m d \u001b[38;5;241m==\u001b[39m \u001b[38;5;241m0\u001b[39m:\n\u001b[0;32m----> 6\u001b[0m     \u001b[38;5;28mprint\u001b[39m(\u001b[38;5;124m\"\u001b[39m\u001b[38;5;124mOne solution: \u001b[39m\u001b[38;5;124m\"\u001b[39m \u001b[38;5;241m+\u001b[39m \u001b[38;5;28mstr\u001b[39m((\u001b[43m(\u001b[49m\u001b[38;5;241;43m-\u001b[39;49m\u001b[43mb\u001b[49m\u001b[43m)\u001b[49m\u001b[38;5;241;43m/\u001b[39;49m\u001b[43m \u001b[49m\u001b[43m(\u001b[49m\u001b[38;5;241;43m2\u001b[39;49m\u001b[43m \u001b[49m\u001b[38;5;241;43m*\u001b[39;49m\u001b[43m \u001b[49m\u001b[43ma\u001b[49m\u001b[43m)\u001b[49m))) \n\u001b[1;32m      7\u001b[0m \u001b[38;5;28;01melse\u001b[39;00m:\n\u001b[1;32m      8\u001b[0m     x \u001b[38;5;241m=\u001b[39m (\u001b[38;5;241m-\u001b[39mb \u001b[38;5;241m+\u001b[39m d \u001b[38;5;241m*\u001b[39m\u001b[38;5;241m*\u001b[39m (\u001b[38;5;241m1\u001b[39m \u001b[38;5;241m/\u001b[39m \u001b[38;5;241m2\u001b[39m)) \u001b[38;5;241m/\u001b[39m (\u001b[38;5;241m2\u001b[39m \u001b[38;5;241m*\u001b[39m a)\n",
      "\u001b[0;31mZeroDivisionError\u001b[0m: division by zero"
     ]
    }
   ],
   "source": [
    "quad(0,0,0)"
   ]
  },
  {
   "cell_type": "markdown",
   "id": "65d4b391",
   "metadata": {},
   "source": [
    "##### ^ That's not good!  Let's fix that shall we?"
   ]
  },
  {
   "cell_type": "code",
   "execution_count": 34,
   "id": "256a7d23",
   "metadata": {},
   "outputs": [],
   "source": [
    "def quad(a,b,c):\n",
    "    d = (b ** 2) - 4 * a * c\n",
    "    if d < 0 or a == 0:\n",
    "        print(\"No solutions!\") \n",
    "    elif d == 0:\n",
    "        print(\"One solution: \" + str(((-b)/ (2 * a)))) \n",
    "    else:\n",
    "        x = (-b + d ** (1 / 2)) / (2 * a)\n",
    "        print(\"Two solutions: \" + str(x) + \" and \" + str(-x))"
   ]
  },
  {
   "cell_type": "code",
   "execution_count": 35,
   "id": "258176d9",
   "metadata": {},
   "outputs": [
    {
     "name": "stdout",
     "output_type": "stream",
     "text": [
      "No solutions!\n"
     ]
    }
   ],
   "source": [
    "quad(0,0,0)"
   ]
  },
  {
   "cell_type": "markdown",
   "id": "a83b4c68",
   "metadata": {},
   "source": [
    "##### ^ That's better!"
   ]
  },
  {
   "cell_type": "code",
   "execution_count": 47,
   "id": "9eefaa8e",
   "metadata": {},
   "outputs": [
    {
     "name": "stdout",
     "output_type": "stream",
     "text": [
      "Two solutions: 0.0 and -0.0\n"
     ]
    }
   ],
   "source": [
    "quad(4,16,0)"
   ]
  },
  {
   "cell_type": "markdown",
   "id": "22cacb23",
   "metadata": {},
   "source": [
    "##### ^ That's definitely wrong!  Let's fix this too!"
   ]
  },
  {
   "cell_type": "code",
   "execution_count": 80,
   "id": "7143c74c",
   "metadata": {},
   "outputs": [],
   "source": [
    "def quad(a,b,c):\n",
    "    d = (b ** 2) - 4 * a * c\n",
    "    if d < 0 or a == 0:\n",
    "        print(\"No solutions!\") \n",
    "    elif d == 0:\n",
    "        print(\"One solution: \" + str(((-b)/ (2 * a)))) \n",
    "    else:\n",
    "        x = (-b + d ** (1 / 2)) / (2 * a)\n",
    "        xNeg = (-b - d ** (1 / 2)) / (2 * a)\n",
    "        print(\"Two solutions: \" + str(x) + \" and \" + str(xNeg))"
   ]
  },
  {
   "cell_type": "code",
   "execution_count": 81,
   "id": "2d9d021f",
   "metadata": {},
   "outputs": [
    {
     "name": "stdout",
     "output_type": "stream",
     "text": [
      "Two solutions: 0.0 and -4.0\n"
     ]
    }
   ],
   "source": [
    "quad(4,16,0)"
   ]
  },
  {
   "cell_type": "markdown",
   "id": "fa5ab4c2",
   "metadata": {},
   "source": [
    "##### ^ There we go!"
   ]
  },
  {
   "cell_type": "code",
   "execution_count": 82,
   "id": "0b5ce87f",
   "metadata": {},
   "outputs": [
    {
     "name": "stdout",
     "output_type": "stream",
     "text": [
      "No solutions!\n"
     ]
    }
   ],
   "source": [
    "quad(1,0,1)"
   ]
  },
  {
   "cell_type": "markdown",
   "id": "0d36e545",
   "metadata": {},
   "source": [
    "##### Technically this is not true, but we don't need to implement complex number solutions!"
   ]
  },
  {
   "cell_type": "code",
   "execution_count": null,
   "id": "3394c668",
   "metadata": {},
   "outputs": [],
   "source": []
  },
  {
   "cell_type": "code",
   "execution_count": null,
   "id": "8d4e1d20",
   "metadata": {},
   "outputs": [],
   "source": []
  },
  {
   "cell_type": "code",
   "execution_count": null,
   "id": "ba8ac22e",
   "metadata": {},
   "outputs": [],
   "source": []
  },
  {
   "cell_type": "code",
   "execution_count": null,
   "id": "8beeb2ff",
   "metadata": {},
   "outputs": [],
   "source": []
  }
 ],
 "metadata": {
  "kernelspec": {
   "display_name": "Python 3 (ipykernel)",
   "language": "python",
   "name": "python3"
  },
  "language_info": {
   "codemirror_mode": {
    "name": "ipython",
    "version": 3
   },
   "file_extension": ".py",
   "mimetype": "text/x-python",
   "name": "python",
   "nbconvert_exporter": "python",
   "pygments_lexer": "ipython3",
   "version": "3.9.13"
  }
 },
 "nbformat": 4,
 "nbformat_minor": 5
}
