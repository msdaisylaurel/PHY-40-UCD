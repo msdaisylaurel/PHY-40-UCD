{
 "cells": [
  {
   "cell_type": "code",
   "execution_count": 3,
   "id": "d88e8295",
   "metadata": {},
   "outputs": [
    {
     "name": "stdout",
     "output_type": "stream",
     "text": [
      "%pylab is deprecated, use %matplotlib inline and import the required libraries.\n",
      "Populating the interactive namespace from numpy and matplotlib\n"
     ]
    }
   ],
   "source": [
    "# Lab 2: Binary Numbers (PHY 040 FA22)\n",
    "# Daisy Whitfield (working collaboratively)\n",
    "%pylab inline"
   ]
  },
  {
   "cell_type": "code",
   "execution_count": 6,
   "id": "2b357b01",
   "metadata": {},
   "outputs": [
    {
     "name": "stdout",
     "output_type": "stream",
     "text": [
      "<class 'int'>\n",
      "121\n",
      "<class 'float'>\n",
      "1.34\n",
      "<class 'bool'>\n",
      "False\n"
     ]
    }
   ],
   "source": [
    "a = 121\n",
    "print(type(a))\n",
    "print(a)\n",
    "a = 1.34\n",
    "print(type(a))\n",
    "print(a)\n",
    "a = False\n",
    "print(type(a))\n",
    "print(a)"
   ]
  },
  {
   "cell_type": "code",
   "execution_count": 7,
   "id": "e2e730bb",
   "metadata": {},
   "outputs": [
    {
     "name": "stdout",
     "output_type": "stream",
     "text": [
      "12\n",
      "5\n"
     ]
    }
   ],
   "source": [
    "a = 12\n",
    "b = a\n",
    "b = 5\n",
    "print(a)\n",
    "print(b)"
   ]
  },
  {
   "cell_type": "code",
   "execution_count": 18,
   "id": "570b2ac5",
   "metadata": {},
   "outputs": [
    {
     "name": "stdout",
     "output_type": "stream",
     "text": [
      "False\n"
     ]
    }
   ],
   "source": [
    "print(a is b)"
   ]
  },
  {
   "cell_type": "code",
   "execution_count": 19,
   "id": "cf80cc18",
   "metadata": {},
   "outputs": [
    {
     "name": "stdout",
     "output_type": "stream",
     "text": [
      "True\n"
     ]
    }
   ],
   "source": [
    "b = a\n",
    "print(b is a)\n"
   ]
  },
  {
   "cell_type": "code",
   "execution_count": 29,
   "id": "2878380c",
   "metadata": {
    "scrolled": true
   },
   "outputs": [
    {
     "name": "stdout",
     "output_type": "stream",
     "text": [
      "1.5\n"
     ]
    }
   ],
   "source": [
    "a = -1.5\n",
    "b = abs(a)\n",
    "print(b)"
   ]
  },
  {
   "cell_type": "code",
   "execution_count": 33,
   "id": "d3315b07",
   "metadata": {},
   "outputs": [
    {
     "name": "stdout",
     "output_type": "stream",
     "text": [
      "dec: hex: bin:\n",
      "0    0x0  0b0000\n",
      "1    0x1  0b0001\n",
      "2    0x2  0b0010\n",
      "3    0x3  0b0011\n",
      "4    0x4  0b0100\n",
      "5    0x5  0b0101\n",
      "6    0x6  0b0110\n",
      "7    0x7  0b0111\n",
      "8    0x8  0b1000\n",
      "9    0x9  0b1001\n",
      "10   0xa  0b1010\n",
      "11   0xb  0b1011\n",
      "12   0xc  0b1100\n",
      "13   0xd  0b1101\n",
      "14   0xe  0b1110\n",
      "15   0xf  0b1111\n"
     ]
    }
   ],
   "source": [
    "print(\"dec: hex: bin:\")\n",
    "for d in range(16):\n",
    "    print(\"{0:<2d}   0x{0:01x}  0b{0:04b}\".format(d))"
   ]
  },
  {
   "cell_type": "code",
   "execution_count": 34,
   "id": "0ba648c6",
   "metadata": {
    "scrolled": false
   },
   "outputs": [
    {
     "name": "stdout",
     "output_type": "stream",
     "text": [
      "18446744073709551615\n"
     ]
    }
   ],
   "source": [
    "x = 2 ** 64-1\n",
    "print(x)"
   ]
  },
  {
   "cell_type": "code",
   "execution_count": 35,
   "id": "f9c782a7",
   "metadata": {
    "scrolled": false
   },
   "outputs": [
    {
     "name": "stdout",
     "output_type": "stream",
     "text": [
      "173766203193809456599982445949435627061939786100117250547173286503262376022458008465094333630120854338003194362163007597987225472483598640843335685441710193966274131338557192586399006789292714554767500194796127964596906605976605873665859580600161998556511368530960400907199253450604168622770350228527124626728538626805418833470107651091641919900725415994689920112219170907023561354484047025713734651608777544579846111001059482132180956689444108315785401642188044178788629853592228467331730519810763559577944882016286493908631503101121166109571682295769470379514531105239965209245314082665518579335511291525230373316486697786532335206274149240813489201828773854353041855598709390675430960381072270432383913542702130202430186637321862331068861776780211082856984506050024895394320139435868484643843368002496089956046419964019877586845530207748994394501505588146979082629871366088121763790555364513243984244004147636040219136443410377798011608722717131323621700159335786445601947601694025107888293017058178562647175461026384343438874861406516767158373279032321096262126551620255666605185789463207944391905756886829667520553014724372245300878786091700563444079107099009003380230356461989260377273986023281444076082783406824471703499844642915587790146384758051663547775336021829171033411043796977042190519657861762804226147480755555085278062866268677842432851421790544407006581148631979148571299417963950579210719961422405768071335213324842709316205032078384168750091017964584060285240107161561019930505687950233196051962261970932008838279760834318101044311710769457048672103958655016388894770892065267451228938951370237422841366052736174160431593023473217066764172949768821843606479073866252864377064398085101223216558344281956767163876579889759124956035672317578122141070933058555310274598884089982879647974020264495921703064439532898207943134374576254840272047075633856749514044298135927611328433323640657533550512376900773273703275329924651465759145114579174356770593439987135755889403613364529029604049868233807295134382284730745937309910703657676103447124097631074153287120040247837143656624045055614076111832245239612708339272798262887437416818440064925049838443370805645609424314780108030016683461562597569371539974003402697903023830108053034645133078208043917492087248958344081026378788915528519967248989338592027124423914083391771884524464968645052058218151010508471258285907685355807229880747677634789376\n"
     ]
    }
   ],
   "source": [
    "x = 2 ** 8000\n",
    "print(x)"
   ]
  },
  {
   "cell_type": "code",
   "execution_count": 39,
   "id": "8edfbbb7",
   "metadata": {
    "scrolled": true
   },
   "outputs": [
    {
     "name": "stdout",
     "output_type": "stream",
     "text": [
      "dec:  hex:   bin:\n",
      "64206 0xface 0b1111101011001110\n"
     ]
    }
   ],
   "source": [
    "print(\"dec:  hex:   bin:\")\n",
    "print(\"{0:<2d} 0x{0:01x} 0b{0:04b}\".format(64206))"
   ]
  },
  {
   "cell_type": "code",
   "execution_count": 42,
   "id": "4d8ca709",
   "metadata": {},
   "outputs": [
    {
     "name": "stdout",
     "output_type": "stream",
     "text": [
      "this many unsigned integers are now available with a 7-bit bus: 127\n"
     ]
    }
   ],
   "source": [
    "x = 2 ** 7-1\n",
    "print(\"this many unsigned integers are now available with a 7-bit bus: \" + str(x))"
   ]
  },
  {
   "cell_type": "code",
   "execution_count": 52,
   "id": "c0092071",
   "metadata": {},
   "outputs": [
    {
     "name": "stdout",
     "output_type": "stream",
     "text": [
      "the range of signed integers available with a 7-bit bus: -32 to +31\n"
     ]
    }
   ],
   "source": [
    "x = 2 ** (7-1)-1\n",
    "print(\"the range of signed integers available with a 7-bit bus: \" + str(-x//2) + \" to +\" + str(x//2))"
   ]
  },
  {
   "cell_type": "code",
   "execution_count": 59,
   "id": "b41294d6",
   "metadata": {},
   "outputs": [],
   "source": [
    "## I look at the dec/hex/bin table I see above\n",
    "#  If binary +1 = 0b0001 and binary -1 = 0b1111\n",
    "#  Then I assume -2 = 0b1110\n",
    "#    -2       +2               0\n",
    "#  0b1110 + 0b0010 = 10000 = 0000\n",
    "#  and so now we can use the math above to show:\n",
    "#  0b1111 + 0b1111 = 0b1110\n",
    "#   -1       -1       -2\n",
    "##"
   ]
  },
  {
   "cell_type": "code",
   "execution_count": 7,
   "id": "982c2887",
   "metadata": {},
   "outputs": [
    {
     "name": "stdout",
     "output_type": "stream",
     "text": [
      "2.220446049250313e-16\n"
     ]
    }
   ],
   "source": [
    "import sys\n",
    "print(sys.float_info.epsilon)"
   ]
  },
  {
   "cell_type": "code",
   "execution_count": 61,
   "id": "e2525855",
   "metadata": {},
   "outputs": [
    {
     "name": "stdout",
     "output_type": "stream",
     "text": [
      "2.220446049250313e-16\n"
     ]
    }
   ],
   "source": [
    "eps = 1.0\n",
    "while eps + 1 > 1:\n",
    "    eps = eps / 2\n",
    "eps = eps * 2\n",
    "print(eps)"
   ]
  },
  {
   "cell_type": "code",
   "execution_count": 64,
   "id": "f9270e21",
   "metadata": {},
   "outputs": [
    {
     "name": "stdout",
     "output_type": "stream",
     "text": [
      "2.220446049250313e-16\n"
     ]
    }
   ],
   "source": [
    "eps = 2 ** -52\n",
    "print(eps)"
   ]
  },
  {
   "cell_type": "code",
   "execution_count": 9,
   "id": "f782b0a3",
   "metadata": {},
   "outputs": [],
   "source": [
    "import numpy as np"
   ]
  },
  {
   "cell_type": "code",
   "execution_count": 66,
   "id": "11d59871",
   "metadata": {},
   "outputs": [
    {
     "name": "stdout",
     "output_type": "stream",
     "text": [
      "1.2246467991473532e-16\n",
      "False\n"
     ]
    }
   ],
   "source": [
    "x = np.sin(np.pi)\n",
    "print(x)\n",
    "print(x==0)"
   ]
  },
  {
   "cell_type": "code",
   "execution_count": 67,
   "id": "d245161d",
   "metadata": {},
   "outputs": [
    {
     "name": "stdout",
     "output_type": "stream",
     "text": [
      "1.2246467991473532e-16\n",
      "True\n"
     ]
    }
   ],
   "source": [
    "x = np.sin(np.pi)\n",
    "print(x)\n",
    "print(abs(x) < 10 * eps)"
   ]
  },
  {
   "cell_type": "code",
   "execution_count": 68,
   "id": "6bb0127e",
   "metadata": {},
   "outputs": [
    {
     "name": "stdout",
     "output_type": "stream",
     "text": [
      "False\n"
     ]
    }
   ],
   "source": [
    "x = 0.1\n",
    "y = x+x+x\n",
    "print(y == 0.3)"
   ]
  },
  {
   "cell_type": "code",
   "execution_count": 73,
   "id": "8fc65f09",
   "metadata": {},
   "outputs": [
    {
     "name": "stdout",
     "output_type": "stream",
     "text": [
      "True\n"
     ]
    }
   ],
   "source": [
    "print(int(y*10) == int(0.3*10))"
   ]
  },
  {
   "cell_type": "code",
   "execution_count": 6,
   "id": "e9d41083",
   "metadata": {},
   "outputs": [
    {
     "name": "stdout",
     "output_type": "stream",
     "text": [
      "-2.4492935982947064e-16\n",
      "0.0\n"
     ]
    }
   ],
   "source": [
    "x = np.sin(2*np.pi)\n",
    "print(x)\n",
    "x = np.around(x,15)+0\n",
    "print(x)"
   ]
  },
  {
   "cell_type": "code",
   "execution_count": 15,
   "id": "b55213cb",
   "metadata": {},
   "outputs": [
    {
     "name": "stdout",
     "output_type": "stream",
     "text": [
      "5.0\n"
     ]
    }
   ],
   "source": [
    "b = 1.2343E-17;\n",
    "sum = 0\n",
    "sum += 5;\n",
    "for i in range(1000000):\n",
    "    sum = sum + b\n",
    "print(sum)"
   ]
  },
  {
   "cell_type": "code",
   "execution_count": 16,
   "id": "af2c3f01",
   "metadata": {},
   "outputs": [
    {
     "name": "stdout",
     "output_type": "stream",
     "text": [
      "hello world (it’s been a strange few years)\n",
      "<class 'str'>\n",
      "w o w\n",
      "<class 'str'>\n"
     ]
    }
   ],
   "source": [
    "s = \"hello world\"\n",
    "s = s + \" (it’s been a strange few years)\"\n",
    "print(s)\n",
    "print(type(s))\n",
    "print(s[6],s[4],s[6])\n",
    "print(type(s[0]))"
   ]
  },
  {
   "cell_type": "code",
   "execution_count": 17,
   "id": "0771c4b8",
   "metadata": {},
   "outputs": [
    {
     "name": "stdout",
     "output_type": "stream",
     "text": [
      "<class 'complex'>\n",
      "1.0\n",
      "2.0\n",
      "(1-2j)\n"
     ]
    }
   ],
   "source": [
    "z = 1 + 2j\n",
    "print(type(z))\n",
    "print(z.real)\n",
    "print(z.imag)\n",
    "print(z.conjugate ())"
   ]
  },
  {
   "cell_type": "code",
   "execution_count": 18,
   "id": "92ad7700",
   "metadata": {},
   "outputs": [
    {
     "name": "stdout",
     "output_type": "stream",
     "text": [
      "(2+0j)\n",
      "0.0\n"
     ]
    }
   ],
   "source": [
    "z = 1 + 1j\n",
    "Zproduct = z * z.conjugate()\n",
    "print(Zproduct)\n",
    "print(Zproduct.imag)"
   ]
  },
  {
   "cell_type": "code",
   "execution_count": 21,
   "id": "afdbbc13",
   "metadata": {},
   "outputs": [
    {
     "name": "stdout",
     "output_type": "stream",
     "text": [
      "hello\n",
      "1\n",
      "green\n",
      "['goodbye', 1, 2, (3+2j), 3.45, 'green']\n"
     ]
    }
   ],
   "source": [
    "L = [\"hello\", 1, 2, 3+2j , 3.45 , \"green\"]\n",
    "print(L[0])\n",
    "print(L[1])\n",
    "print(L[5])\n",
    "L[0] = \"goodbye\"\n",
    "print(L)"
   ]
  },
  {
   "cell_type": "code",
   "execution_count": 17,
   "id": "da397c7d",
   "metadata": {},
   "outputs": [
    {
     "name": "stdout",
     "output_type": "stream",
     "text": [
      "1\n",
      "5\n",
      "10\n",
      "50\n",
      "100\n"
     ]
    }
   ],
   "source": [
    "for i in [1,5,10,50,100]:\n",
    "    print(i)"
   ]
  },
  {
   "cell_type": "code",
   "execution_count": 19,
   "id": "1374bd60",
   "metadata": {},
   "outputs": [
    {
     "name": "stdout",
     "output_type": "stream",
     "text": [
      "3\n",
      "True\n"
     ]
    }
   ],
   "source": [
    "a = [1,2,3,4,5]\n",
    "b = a\n",
    "b[0] = 3\n",
    "print(a[0])\n",
    "print(a is b)"
   ]
  },
  {
   "cell_type": "code",
   "execution_count": 28,
   "id": "e3a390d0",
   "metadata": {},
   "outputs": [
    {
     "name": "stdout",
     "output_type": "stream",
     "text": [
      "3.0\n"
     ]
    },
    {
     "ename": "AttributeError",
     "evalue": "readonly attribute",
     "output_type": "error",
     "traceback": [
      "\u001b[0;31m---------------------------------------------------------------------------\u001b[0m",
      "\u001b[0;31mAttributeError\u001b[0m                            Traceback (most recent call last)",
      "Input \u001b[0;32mIn [28]\u001b[0m, in \u001b[0;36m<cell line: 4>\u001b[0;34m()\u001b[0m\n\u001b[1;32m      2\u001b[0m x \u001b[38;5;241m=\u001b[39m \u001b[38;5;241m5\u001b[39m\n\u001b[1;32m      3\u001b[0m \u001b[38;5;28mprint\u001b[39m(z\u001b[38;5;241m.\u001b[39mimag)\n\u001b[0;32m----> 4\u001b[0m z\u001b[38;5;241m.\u001b[39mimag \u001b[38;5;241m=\u001b[39m x\n\u001b[1;32m      5\u001b[0m \u001b[38;5;28mprint\u001b[39m(z\u001b[38;5;241m.\u001b[39mimag)\n",
      "\u001b[0;31mAttributeError\u001b[0m: readonly attribute"
     ]
    }
   ],
   "source": [
    "z = 3 + 3j\n",
    "x = 5\n",
    "print(z.imag)\n",
    "z.imag = x\n",
    "print(z.imag)"
   ]
  },
  {
   "cell_type": "code",
   "execution_count": null,
   "id": "efffff89",
   "metadata": {},
   "outputs": [],
   "source": [
    "# From the above information, it looks like complex numbers are immutable."
   ]
  }
 ],
 "metadata": {
  "kernelspec": {
   "display_name": "Python 3 (ipykernel)",
   "language": "python",
   "name": "python3"
  },
  "language_info": {
   "codemirror_mode": {
    "name": "ipython",
    "version": 3
   },
   "file_extension": ".py",
   "mimetype": "text/x-python",
   "name": "python",
   "nbconvert_exporter": "python",
   "pygments_lexer": "ipython3",
   "version": "3.9.13"
  }
 },
 "nbformat": 4,
 "nbformat_minor": 5
}
