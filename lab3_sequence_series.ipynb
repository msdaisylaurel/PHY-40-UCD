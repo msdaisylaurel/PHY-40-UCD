{
 "cells": [
  {
   "cell_type": "markdown",
   "id": "53663086",
   "metadata": {},
   "source": [
    "## Lab 3 - Sequences & Series\n",
    "### Daisy L Whitfield (working collaboratively)"
   ]
  },
  {
   "cell_type": "markdown",
   "id": "e5f28236",
   "metadata": {},
   "source": [
    "#### Exercise 3.1 - Multiples of a Number"
   ]
  },
  {
   "cell_type": "code",
   "execution_count": 37,
   "id": "091675bf",
   "metadata": {},
   "outputs": [],
   "source": [
    "def mult(a,n):\n",
    "    for x in range(n):\n",
    "        print(a * (x + 1))"
   ]
  },
  {
   "cell_type": "markdown",
   "id": "a0aee39f",
   "metadata": {},
   "source": [
    "##### Exercise 3.1 output"
   ]
  },
  {
   "cell_type": "code",
   "execution_count": 38,
   "id": "f69cf660",
   "metadata": {},
   "outputs": [
    {
     "name": "stdout",
     "output_type": "stream",
     "text": [
      "3\n",
      "6\n",
      "9\n",
      "12\n"
     ]
    }
   ],
   "source": [
    "mult(3,4)"
   ]
  },
  {
   "cell_type": "markdown",
   "id": "2a064bd7",
   "metadata": {},
   "source": [
    "### 3.3 non-python syntax\n",
    "##### - The last two lines of the sequence for the sample code to create the Fibonacci Sequence are important because they increment the values to the next two numbers in the sequence.  We can't reverse them, because we need to make F(a) equal to F(b) before we assign the new value of F(c) to F(b)."
   ]
  },
  {
   "cell_type": "markdown",
   "id": "c42c3df0",
   "metadata": {},
   "source": [
    "#### Exercise 3.2 - n + 2 Fibonacci Sequence"
   ]
  },
  {
   "cell_type": "code",
   "execution_count": 39,
   "id": "a6aaf254",
   "metadata": {},
   "outputs": [],
   "source": [
    "def fib(n):\n",
    "    i = 0\n",
    "    j = 1\n",
    "    for x in range(n):\n",
    "        s = i + j\n",
    "        print(s)\n",
    "        i = j\n",
    "        j = s"
   ]
  },
  {
   "cell_type": "markdown",
   "id": "7763a4e8",
   "metadata": {},
   "source": [
    "##### Exercise 3.2 output"
   ]
  },
  {
   "cell_type": "code",
   "execution_count": 41,
   "id": "b34f943b",
   "metadata": {},
   "outputs": [
    {
     "name": "stdout",
     "output_type": "stream",
     "text": [
      "1\n",
      "2\n",
      "3\n",
      "5\n",
      "8\n",
      "13\n",
      "21\n"
     ]
    }
   ],
   "source": [
    "fib(7)"
   ]
  },
  {
   "cell_type": "markdown",
   "id": "535e67e5",
   "metadata": {},
   "source": [
    "### 3.4 Arithmetic Series"
   ]
  },
  {
   "cell_type": "code",
   "execution_count": 43,
   "id": "ae873861",
   "metadata": {},
   "outputs": [],
   "source": [
    "def arith(n):\n",
    "    sum = 0\n",
    "    for k in range(n + 1):\n",
    "        sum = sum + 1 + k\n",
    "        print(\"k: \", k, \"\\t sum: \", sum)\n",
    "    return sum"
   ]
  },
  {
   "cell_type": "code",
   "execution_count": 44,
   "id": "35f8bbdd",
   "metadata": {},
   "outputs": [
    {
     "name": "stdout",
     "output_type": "stream",
     "text": [
      "k:  0 \t sum:  1\n",
      "k:  1 \t sum:  3\n",
      "k:  2 \t sum:  6\n",
      "k:  3 \t sum:  10\n",
      "k:  4 \t sum:  15\n"
     ]
    },
    {
     "data": {
      "text/plain": [
       "15"
      ]
     },
     "execution_count": 44,
     "metadata": {},
     "output_type": "execute_result"
    }
   ],
   "source": [
    "arith(5)"
   ]
  },
  {
   "cell_type": "markdown",
   "id": "ae909446",
   "metadata": {},
   "source": [
    "#### Exercise 3.3 - Sum of Arithmetic Series"
   ]
  },
  {
   "cell_type": "code",
   "execution_count": 72,
   "id": "30d1d0bf",
   "metadata": {},
   "outputs": [],
   "source": [
    "def arithCheck(n):\n",
    "    sum = arith(n)\n",
    "    check = ((n - 1) + 1) * ((1 + (1 + (n - 1) * 1)) / 2)\n",
    "    print(sum == check)"
   ]
  },
  {
   "cell_type": "markdown",
   "id": "272bee68",
   "metadata": {},
   "source": [
    "##### Exercise 3.3 output"
   ]
  },
  {
   "cell_type": "code",
   "execution_count": 74,
   "id": "9a2f166a",
   "metadata": {},
   "outputs": [
    {
     "name": "stdout",
     "output_type": "stream",
     "text": [
      "k:  0 \t sum:  1\n",
      "k:  1 \t sum:  3\n",
      "k:  2 \t sum:  6\n",
      "True\n",
      "k:  0 \t sum:  1\n",
      "k:  1 \t sum:  3\n",
      "k:  2 \t sum:  6\n",
      "k:  3 \t sum:  10\n",
      "k:  4 \t sum:  15\n",
      "True\n",
      "k:  0 \t sum:  1\n",
      "k:  1 \t sum:  3\n",
      "k:  2 \t sum:  6\n",
      "k:  3 \t sum:  10\n",
      "k:  4 \t sum:  15\n",
      "k:  5 \t sum:  21\n",
      "k:  6 \t sum:  28\n",
      "k:  7 \t sum:  36\n",
      "True\n"
     ]
    }
   ],
   "source": [
    "arithCheck(3)\n",
    "arithCheck(5)\n",
    "arithCheck(8)"
   ]
  },
  {
   "cell_type": "markdown",
   "id": "3d554e0e",
   "metadata": {},
   "source": [
    "#### Exercise 3.4 - Sum of Geometric Series"
   ]
  },
  {
   "cell_type": "code",
   "execution_count": null,
   "id": "177acdc1",
   "metadata": {},
   "outputs": [],
   "source": [
    "def geom(a,r,n):\n",
    "    "
   ]
  }
 ],
 "metadata": {
  "kernelspec": {
   "display_name": "Python 3 (ipykernel)",
   "language": "python",
   "name": "python3"
  },
  "language_info": {
   "codemirror_mode": {
    "name": "ipython",
    "version": 3
   },
   "file_extension": ".py",
   "mimetype": "text/x-python",
   "name": "python",
   "nbconvert_exporter": "python",
   "pygments_lexer": "ipython3",
   "version": "3.9.13"
  }
 },
 "nbformat": 4,
 "nbformat_minor": 5
}
